{
 "cells": [
  {
   "cell_type": "code",
   "execution_count": 25,
   "id": "26746375-a4e5-48b1-9899-bdb2ad30c9d4",
   "metadata": {},
   "outputs": [],
   "source": [
    "import json\n",
    "import re\n",
    "import pandas as pd\n",
    "from rank_bm25 import BM25Okapi\n",
    "from transformers import T5ForConditionalGeneration, T5Tokenizer\n",
    "from transformers import pipeline\n",
    "import pickle"
   ]
  },
  {
   "cell_type": "code",
   "execution_count": 2,
   "id": "25eb9299-f8ec-412e-856b-3787dcb11ffa",
   "metadata": {},
   "outputs": [],
   "source": [
    "#Load the json file\n",
    "file_path = 'news.article.json'"
   ]
  },
  {
   "cell_type": "code",
   "execution_count": 3,
   "id": "7fdd0383-d62b-456e-8b6e-492a950f7d27",
   "metadata": {},
   "outputs": [],
   "source": [
    "with open(file_path, 'r', encoding='utf-8') as file:\n",
    "    articles = json.load(file)"
   ]
  },
  {
   "cell_type": "markdown",
   "id": "2d2adb86-b1c9-401c-a62f-5648cc88ce1f",
   "metadata": {},
   "source": [
    "### Preprocessing"
   ]
  },
  {
   "cell_type": "code",
   "execution_count": 5,
   "id": "b374e1f7-d94d-4634-808b-791cab4ca945",
   "metadata": {},
   "outputs": [],
   "source": [
    "# Function to clean text\n",
    "def clean_text(text):\n",
    "    # Convert text to lower case\n",
    "    text = text.lower()\n",
    "    # Remove newline characters\n",
    "    text = re.sub(r'\\n+', ' ', text)\n",
    "    # Remove multiple spaces\n",
    "    text = re.sub(r'\\s+', ' ', text)\n",
    "    # Remove special characters and punctuation\n",
    "    text = re.sub(r'[^\\w\\s]', '', text)\n",
    "    return text.strip()"
   ]
  },
  {
   "cell_type": "code",
   "execution_count": 6,
   "id": "2970cae2-b562-431f-abbf-dd63bf0ab220",
   "metadata": {},
   "outputs": [],
   "source": [
    "cleaned_articles = []"
   ]
  },
  {
   "cell_type": "code",
   "execution_count": 7,
   "id": "79444619-02f6-4ba9-8e76-979e4c08a736",
   "metadata": {},
   "outputs": [],
   "source": [
    "for article in articles:\n",
    "    cleaned_text = clean_text(article['articleBody'])\n",
    "    cleaned_articles.append({\n",
    "        'title': article['title'], \n",
    "        'content': cleaned_text, \n",
    "        'source': article['source']\n",
    "    })"
   ]
  },
  {
   "cell_type": "code",
   "execution_count": 8,
   "id": "9783c5ba-ec07-48ca-a3fa-a3f76fdc949d",
   "metadata": {},
   "outputs": [],
   "source": [
    "# Convert to DataFrame for easy manipulation\n",
    "df = pd.DataFrame(cleaned_articles)"
   ]
  },
  {
   "cell_type": "code",
   "execution_count": 9,
   "id": "d797c712-651f-42ff-9f70-338913d03fe4",
   "metadata": {},
   "outputs": [
    {
     "data": {
      "text/html": [
       "<div>\n",
       "<style scoped>\n",
       "    .dataframe tbody tr th:only-of-type {\n",
       "        vertical-align: middle;\n",
       "    }\n",
       "\n",
       "    .dataframe tbody tr th {\n",
       "        vertical-align: top;\n",
       "    }\n",
       "\n",
       "    .dataframe thead th {\n",
       "        text-align: right;\n",
       "    }\n",
       "</style>\n",
       "<table border=\"1\" class=\"dataframe\">\n",
       "  <thead>\n",
       "    <tr style=\"text-align: right;\">\n",
       "      <th></th>\n",
       "      <th>title</th>\n",
       "      <th>content</th>\n",
       "      <th>source</th>\n",
       "    </tr>\n",
       "  </thead>\n",
       "  <tbody>\n",
       "    <tr>\n",
       "      <th>0</th>\n",
       "      <td>Shiv Sena MP Sanjay Raut Responds To 'Hamas' R...</td>\n",
       "      <td>sanjay raut a member of the shiv sena ubt part...</td>\n",
       "      <td>https://www.thehansindia.com/</td>\n",
       "    </tr>\n",
       "    <tr>\n",
       "      <th>1</th>\n",
       "      <td>At IUML's pro-Palestine rally in Kerala Tharoo...</td>\n",
       "      <td>kozhikode kerala india october 27 ani pointing...</td>\n",
       "      <td>https://www.aninews.in/</td>\n",
       "    </tr>\n",
       "    <tr>\n",
       "      <th>2</th>\n",
       "      <td>Uddhav buried Bal Thackeray's 'Hindutva' for p...</td>\n",
       "      <td>mumbai oct 24 pti maharashtra chief minister e...</td>\n",
       "      <td>https://thefederal.com/</td>\n",
       "    </tr>\n",
       "    <tr>\n",
       "      <th>3</th>\n",
       "      <td>New Bills replacing IPC, CrPC, Evidence Act wi...</td>\n",
       "      <td>sensex nifty rebound over 1 pc after six sessi...</td>\n",
       "      <td>https://english.varthabharati.in/</td>\n",
       "    </tr>\n",
       "    <tr>\n",
       "      <th>4</th>\n",
       "      <td>Israel biggest terrorist nation in the world, ...</td>\n",
       "      <td>october 26 2023 0815 pm  updated 0838 pm ist  ...</td>\n",
       "      <td>https://www.thehindu.com/</td>\n",
       "    </tr>\n",
       "    <tr>\n",
       "      <th>...</th>\n",
       "      <td>...</td>\n",
       "      <td>...</td>\n",
       "      <td>...</td>\n",
       "    </tr>\n",
       "    <tr>\n",
       "      <th>37416</th>\n",
       "      <td>Lebanese media reports renewed IDF strikes in ...</td>\n",
       "      <td>lebanese media are reporting renewed idf strik...</td>\n",
       "      <td>https://www.timesofisrael.com/</td>\n",
       "    </tr>\n",
       "    <tr>\n",
       "      <th>37417</th>\n",
       "      <td>US approves additional bombs, warplanes sales ...</td>\n",
       "      <td>amid escalating tensions and concerns over pot...</td>\n",
       "      <td>https://www.deccanchronicle.com/</td>\n",
       "    </tr>\n",
       "    <tr>\n",
       "      <th>37418</th>\n",
       "      <td>Israel Publishes Video of Islamic Jihad Terror...</td>\n",
       "      <td>haaretzcom the online english edition of haare...</td>\n",
       "      <td>https://www.haaretz.com/</td>\n",
       "    </tr>\n",
       "    <tr>\n",
       "      <th>37419</th>\n",
       "      <td>United Nations secretary general condemns expl...</td>\n",
       "      <td>the un secretary general antónio guterres has ...</td>\n",
       "      <td>https://www.theguardian.com/</td>\n",
       "    </tr>\n",
       "    <tr>\n",
       "      <th>37420</th>\n",
       "      <td>Raghav Chadha stirs a row as he meets this UK ...</td>\n",
       "      <td>aam aadmi party aap leader raghav chadha recen...</td>\n",
       "      <td>https://indianexpress.com/</td>\n",
       "    </tr>\n",
       "  </tbody>\n",
       "</table>\n",
       "<p>37421 rows × 3 columns</p>\n",
       "</div>"
      ],
      "text/plain": [
       "                                                   title  \\\n",
       "0      Shiv Sena MP Sanjay Raut Responds To 'Hamas' R...   \n",
       "1      At IUML's pro-Palestine rally in Kerala Tharoo...   \n",
       "2      Uddhav buried Bal Thackeray's 'Hindutva' for p...   \n",
       "3      New Bills replacing IPC, CrPC, Evidence Act wi...   \n",
       "4      Israel biggest terrorist nation in the world, ...   \n",
       "...                                                  ...   \n",
       "37416  Lebanese media reports renewed IDF strikes in ...   \n",
       "37417  US approves additional bombs, warplanes sales ...   \n",
       "37418  Israel Publishes Video of Islamic Jihad Terror...   \n",
       "37419  United Nations secretary general condemns expl...   \n",
       "37420  Raghav Chadha stirs a row as he meets this UK ...   \n",
       "\n",
       "                                                 content  \\\n",
       "0      sanjay raut a member of the shiv sena ubt part...   \n",
       "1      kozhikode kerala india october 27 ani pointing...   \n",
       "2      mumbai oct 24 pti maharashtra chief minister e...   \n",
       "3      sensex nifty rebound over 1 pc after six sessi...   \n",
       "4      october 26 2023 0815 pm  updated 0838 pm ist  ...   \n",
       "...                                                  ...   \n",
       "37416  lebanese media are reporting renewed idf strik...   \n",
       "37417  amid escalating tensions and concerns over pot...   \n",
       "37418  haaretzcom the online english edition of haare...   \n",
       "37419  the un secretary general antónio guterres has ...   \n",
       "37420  aam aadmi party aap leader raghav chadha recen...   \n",
       "\n",
       "                                  source  \n",
       "0          https://www.thehansindia.com/  \n",
       "1                https://www.aninews.in/  \n",
       "2                https://thefederal.com/  \n",
       "3      https://english.varthabharati.in/  \n",
       "4              https://www.thehindu.com/  \n",
       "...                                  ...  \n",
       "37416     https://www.timesofisrael.com/  \n",
       "37417   https://www.deccanchronicle.com/  \n",
       "37418           https://www.haaretz.com/  \n",
       "37419       https://www.theguardian.com/  \n",
       "37420         https://indianexpress.com/  \n",
       "\n",
       "[37421 rows x 3 columns]"
      ]
     },
     "execution_count": 9,
     "metadata": {},
     "output_type": "execute_result"
    }
   ],
   "source": [
    "df"
   ]
  },
  {
   "cell_type": "code",
   "execution_count": 10,
   "id": "149c5d81-fce0-4005-82a1-c0e60f95d39a",
   "metadata": {},
   "outputs": [
    {
     "data": {
      "text/plain": [
       "(37421, 3)"
      ]
     },
     "execution_count": 10,
     "metadata": {},
     "output_type": "execute_result"
    }
   ],
   "source": [
    "df.shape"
   ]
  },
  {
   "cell_type": "code",
   "execution_count": 11,
   "id": "7438b43b-7999-4783-b706-54d3a3093b76",
   "metadata": {},
   "outputs": [],
   "source": [
    "# Function to check if an article is relevant\n",
    "def is_relevant(text):\n",
    "    keywords = ['israel', 'hamas', 'gaza', 'palestine', 'war', 'conflict']\n",
    "    return any(keyword in text for keyword in keywords)"
   ]
  },
  {
   "cell_type": "code",
   "execution_count": 12,
   "id": "6e1ed782-8fc5-4f5f-840f-838077ba9596",
   "metadata": {},
   "outputs": [],
   "source": [
    "# Filter relevant articles\n",
    "df['is_relevant'] = df['content'].apply(is_relevant)\n",
    "relevant_articles = df[df['is_relevant']]"
   ]
  },
  {
   "cell_type": "code",
   "execution_count": 13,
   "id": "5cdd73e7-757f-4cfe-bb1f-69dea75d3035",
   "metadata": {},
   "outputs": [
    {
     "data": {
      "text/html": [
       "<div>\n",
       "<style scoped>\n",
       "    .dataframe tbody tr th:only-of-type {\n",
       "        vertical-align: middle;\n",
       "    }\n",
       "\n",
       "    .dataframe tbody tr th {\n",
       "        vertical-align: top;\n",
       "    }\n",
       "\n",
       "    .dataframe thead th {\n",
       "        text-align: right;\n",
       "    }\n",
       "</style>\n",
       "<table border=\"1\" class=\"dataframe\">\n",
       "  <thead>\n",
       "    <tr style=\"text-align: right;\">\n",
       "      <th></th>\n",
       "      <th>title</th>\n",
       "      <th>content</th>\n",
       "      <th>source</th>\n",
       "      <th>is_relevant</th>\n",
       "    </tr>\n",
       "  </thead>\n",
       "  <tbody>\n",
       "    <tr>\n",
       "      <th>0</th>\n",
       "      <td>Shiv Sena MP Sanjay Raut Responds To 'Hamas' R...</td>\n",
       "      <td>sanjay raut a member of the shiv sena ubt part...</td>\n",
       "      <td>https://www.thehansindia.com/</td>\n",
       "      <td>True</td>\n",
       "    </tr>\n",
       "    <tr>\n",
       "      <th>1</th>\n",
       "      <td>At IUML's pro-Palestine rally in Kerala Tharoo...</td>\n",
       "      <td>kozhikode kerala india october 27 ani pointing...</td>\n",
       "      <td>https://www.aninews.in/</td>\n",
       "      <td>True</td>\n",
       "    </tr>\n",
       "    <tr>\n",
       "      <th>2</th>\n",
       "      <td>Uddhav buried Bal Thackeray's 'Hindutva' for p...</td>\n",
       "      <td>mumbai oct 24 pti maharashtra chief minister e...</td>\n",
       "      <td>https://thefederal.com/</td>\n",
       "      <td>True</td>\n",
       "    </tr>\n",
       "    <tr>\n",
       "      <th>3</th>\n",
       "      <td>New Bills replacing IPC, CrPC, Evidence Act wi...</td>\n",
       "      <td>sensex nifty rebound over 1 pc after six sessi...</td>\n",
       "      <td>https://english.varthabharati.in/</td>\n",
       "      <td>True</td>\n",
       "    </tr>\n",
       "    <tr>\n",
       "      <th>4</th>\n",
       "      <td>Israel biggest terrorist nation in the world, ...</td>\n",
       "      <td>october 26 2023 0815 pm  updated 0838 pm ist  ...</td>\n",
       "      <td>https://www.thehindu.com/</td>\n",
       "      <td>True</td>\n",
       "    </tr>\n",
       "  </tbody>\n",
       "</table>\n",
       "</div>"
      ],
      "text/plain": [
       "                                               title  \\\n",
       "0  Shiv Sena MP Sanjay Raut Responds To 'Hamas' R...   \n",
       "1  At IUML's pro-Palestine rally in Kerala Tharoo...   \n",
       "2  Uddhav buried Bal Thackeray's 'Hindutva' for p...   \n",
       "3  New Bills replacing IPC, CrPC, Evidence Act wi...   \n",
       "4  Israel biggest terrorist nation in the world, ...   \n",
       "\n",
       "                                             content  \\\n",
       "0  sanjay raut a member of the shiv sena ubt part...   \n",
       "1  kozhikode kerala india october 27 ani pointing...   \n",
       "2  mumbai oct 24 pti maharashtra chief minister e...   \n",
       "3  sensex nifty rebound over 1 pc after six sessi...   \n",
       "4  october 26 2023 0815 pm  updated 0838 pm ist  ...   \n",
       "\n",
       "                              source  is_relevant  \n",
       "0      https://www.thehansindia.com/         True  \n",
       "1            https://www.aninews.in/         True  \n",
       "2            https://thefederal.com/         True  \n",
       "3  https://english.varthabharati.in/         True  \n",
       "4          https://www.thehindu.com/         True  "
      ]
     },
     "execution_count": 13,
     "metadata": {},
     "output_type": "execute_result"
    }
   ],
   "source": [
    "# Display the relevant articles\n",
    "relevant_articles.head()"
   ]
  },
  {
   "cell_type": "code",
   "execution_count": 14,
   "id": "87602daa-b9e4-45fe-a43f-e42892df9cb5",
   "metadata": {},
   "outputs": [
    {
     "data": {
      "text/plain": [
       "(36313, 4)"
      ]
     },
     "execution_count": 14,
     "metadata": {},
     "output_type": "execute_result"
    }
   ],
   "source": [
    "relevant_articles.shape"
   ]
  },
  {
   "cell_type": "markdown",
   "id": "95f0461e-e70f-4e87-9ece-7e48938055ea",
   "metadata": {},
   "source": [
    "### BM25 retrieval"
   ]
  },
  {
   "cell_type": "code",
   "execution_count": 15,
   "id": "7e1ee2cf-93d2-4b82-b469-210dbf4a3753",
   "metadata": {},
   "outputs": [],
   "source": [
    "# Tokenize the documents\n",
    "tokenized_corpus = [doc.split(\" \") for doc in relevant_articles['content']]\n",
    "bm25 = BM25Okapi(tokenized_corpus)"
   ]
  },
  {
   "cell_type": "code",
   "execution_count": 27,
   "id": "3c793ab8-2b1f-4a14-a5be-fa53dbed415b",
   "metadata": {},
   "outputs": [],
   "source": [
    "with open('tokenized_corpus.pkl', 'wb') as f:\n",
    "    pickle.dump(tokenized_corpus, f)"
   ]
  },
  {
   "cell_type": "code",
   "execution_count": 26,
   "id": "e688525c-5948-4883-9bff-cef9d22b4790",
   "metadata": {},
   "outputs": [],
   "source": [
    "with open('bm25_instance.pkl', 'wb') as f:\n",
    "    pickle.dump(bm25, f)"
   ]
  },
  {
   "cell_type": "code",
   "execution_count": 16,
   "id": "1002c5c5-40e6-48e9-9152-1aa82e182b0f",
   "metadata": {},
   "outputs": [],
   "source": [
    "# Function to retrieve relevant articles\n",
    "def retrieve_articles(query, bm25, articles, top_n=5):\n",
    "    tokenized_query = query.lower().split(\" \")\n",
    "    scores = bm25.get_scores(tokenized_query)\n",
    "    top_n_indices = scores.argsort()[-top_n:][::-1]\n",
    "    return articles.iloc[top_n_indices]"
   ]
  },
  {
   "cell_type": "code",
   "execution_count": 17,
   "id": "2d25abe2-2107-4dfe-b6d6-0b2ee63c3f4d",
   "metadata": {},
   "outputs": [],
   "source": [
    "# Example query\n",
    "query = \"What happened at the Al-Shifa Hospital?\"\n",
    "top_articles = retrieve_articles(query, bm25, relevant_articles)"
   ]
  },
  {
   "cell_type": "code",
   "execution_count": 18,
   "id": "8c79f3ee-7501-48f1-b316-ca2280118bbb",
   "metadata": {},
   "outputs": [
    {
     "data": {
      "text/html": [
       "<div>\n",
       "<style scoped>\n",
       "    .dataframe tbody tr th:only-of-type {\n",
       "        vertical-align: middle;\n",
       "    }\n",
       "\n",
       "    .dataframe tbody tr th {\n",
       "        vertical-align: top;\n",
       "    }\n",
       "\n",
       "    .dataframe thead th {\n",
       "        text-align: right;\n",
       "    }\n",
       "</style>\n",
       "<table border=\"1\" class=\"dataframe\">\n",
       "  <thead>\n",
       "    <tr style=\"text-align: right;\">\n",
       "      <th></th>\n",
       "      <th>title</th>\n",
       "      <th>content</th>\n",
       "      <th>source</th>\n",
       "      <th>is_relevant</th>\n",
       "    </tr>\n",
       "  </thead>\n",
       "  <tbody>\n",
       "    <tr>\n",
       "      <th>33491</th>\n",
       "      <td>Dueling claims after Palestinians die waiting ...</td>\n",
       "      <td>the palestinian health ministry said in the la...</td>\n",
       "      <td>https://thehill.com/</td>\n",
       "      <td>True</td>\n",
       "    </tr>\n",
       "    <tr>\n",
       "      <th>2898</th>\n",
       "      <td>Protester lights self on fire outside Israeli ...</td>\n",
       "      <td>newsnation  a protester lit themselves on fire...</td>\n",
       "      <td>https://www.newsnationnow.com/</td>\n",
       "      <td>True</td>\n",
       "    </tr>\n",
       "    <tr>\n",
       "      <th>207</th>\n",
       "      <td>Row Over Shashi Tharoor's Speech, CPI(M) Leade...</td>\n",
       "      <td>a row has erupted in kerala over the speech of...</td>\n",
       "      <td>https://www.ndtv.com/</td>\n",
       "      <td>True</td>\n",
       "    </tr>\n",
       "    <tr>\n",
       "      <th>26795</th>\n",
       "      <td>Alec Baldwin refuses to condemn Israel in pro-...</td>\n",
       "      <td>american actor alec baldwin found himself in a...</td>\n",
       "      <td>https://www.ynetnews.com/</td>\n",
       "      <td>True</td>\n",
       "    </tr>\n",
       "    <tr>\n",
       "      <th>17744</th>\n",
       "      <td>Mysterious: Russian Man Flies SAS To Los Angel...</td>\n",
       "      <td>summary passenger boards usbound scandinavian ...</td>\n",
       "      <td>https://simpleflying.com/</td>\n",
       "      <td>True</td>\n",
       "    </tr>\n",
       "  </tbody>\n",
       "</table>\n",
       "</div>"
      ],
      "text/plain": [
       "                                                   title  \\\n",
       "33491  Dueling claims after Palestinians die waiting ...   \n",
       "2898   Protester lights self on fire outside Israeli ...   \n",
       "207    Row Over Shashi Tharoor's Speech, CPI(M) Leade...   \n",
       "26795  Alec Baldwin refuses to condemn Israel in pro-...   \n",
       "17744  Mysterious: Russian Man Flies SAS To Los Angel...   \n",
       "\n",
       "                                                 content  \\\n",
       "33491  the palestinian health ministry said in the la...   \n",
       "2898   newsnation  a protester lit themselves on fire...   \n",
       "207    a row has erupted in kerala over the speech of...   \n",
       "26795  american actor alec baldwin found himself in a...   \n",
       "17744  summary passenger boards usbound scandinavian ...   \n",
       "\n",
       "                               source  is_relevant  \n",
       "33491            https://thehill.com/         True  \n",
       "2898   https://www.newsnationnow.com/         True  \n",
       "207             https://www.ndtv.com/         True  \n",
       "26795       https://www.ynetnews.com/         True  \n",
       "17744       https://simpleflying.com/         True  "
      ]
     },
     "execution_count": 18,
     "metadata": {},
     "output_type": "execute_result"
    }
   ],
   "source": [
    "top_articles"
   ]
  },
  {
   "cell_type": "markdown",
   "id": "74fcf180-0254-41f6-8dc3-6fc21700cb4b",
   "metadata": {},
   "source": [
    "### T5 model"
   ]
  },
  {
   "cell_type": "code",
   "execution_count": 19,
   "id": "4af05ee8-5c49-436b-bed2-800fea3006dc",
   "metadata": {},
   "outputs": [
    {
     "name": "stderr",
     "output_type": "stream",
     "text": [
      "You are using the default legacy behaviour of the <class 'transformers.models.t5.tokenization_t5.T5Tokenizer'>. This is expected, and simply means that the `legacy` (previous) behavior will be used so nothing changes for you. If you want to use the new behaviour, set `legacy=False`. This should only be set if you understand what it means, and thoroughly read the reason why this was added as explained in https://github.com/huggingface/transformers/pull/24565\n",
      "Special tokens have been added in the vocabulary, make sure the associated word embeddings are fine-tuned or trained.\n"
     ]
    }
   ],
   "source": [
    "# Load T5 model and tokenizer\n",
    "t5_model = T5ForConditionalGeneration.from_pretrained('t5-small')\n",
    "t5_tokenizer = T5Tokenizer.from_pretrained('t5-small')"
   ]
  },
  {
   "cell_type": "code",
   "execution_count": 20,
   "id": "35d362ab-ac8d-4776-869f-730c2e0a11e0",
   "metadata": {},
   "outputs": [
    {
     "name": "stdout",
     "output_type": "stream",
     "text": [
      "Model and tokenizer saved to saved_model/\n"
     ]
    }
   ],
   "source": [
    "# Define a directory to save the model\n",
    "model_path = \"saved_model/\"\n",
    "\n",
    "# Save the model and tokenizer\n",
    "t5_model.save_pretrained(model_path)\n",
    "t5_tokenizer.save_pretrained(model_path)\n",
    "\n",
    "print(f\"Model and tokenizer saved to {model_path}\")"
   ]
  },
  {
   "cell_type": "code",
   "execution_count": 21,
   "id": "682ce44f-e25b-427b-9cf7-c5a99bb7b3f5",
   "metadata": {},
   "outputs": [],
   "source": [
    "# Function to generate answers\n",
    "def generate_answer(context, question):\n",
    "    input_text = f\"question: {question} context: {context}\"\n",
    "    input_ids = t5_tokenizer.encode(input_text, return_tensors='pt', truncation=True)\n",
    "    outputs = t5_model.generate(input_ids)\n",
    "    answer = t5_tokenizer.decode(outputs[0], skip_special_tokens=True)\n",
    "    return answer"
   ]
  },
  {
   "cell_type": "markdown",
   "id": "4fd09776-daab-4d58-9276-eed855c99b19",
   "metadata": {},
   "source": [
    "### QA Model"
   ]
  },
  {
   "cell_type": "code",
   "execution_count": 22,
   "id": "e03fbd67-778b-4c80-95ea-48d8be3f794d",
   "metadata": {},
   "outputs": [],
   "source": [
    "# Function to generate answers using T5 model\n",
    "def question_answer_system(question, top_articles):\n",
    "    context = ' '.join(top_articles['content'].tolist())\n",
    "    inputs = t5_tokenizer.encode(\"question: \" + question + \" context: \" + context, return_tensors=\"pt\", max_length=512, truncation=True)\n",
    "    outputs = t5_model.generate(inputs, max_length=150, num_return_sequences=1, early_stopping=True)\n",
    "    answer = t5_tokenizer.decode(outputs[0], skip_special_tokens=True)\n",
    "    return answer"
   ]
  },
  {
   "cell_type": "code",
   "execution_count": 23,
   "id": "3c8a829a-6346-40b5-9f4f-c418ed43ad88",
   "metadata": {},
   "outputs": [
    {
     "name": "stderr",
     "output_type": "stream",
     "text": [
      "The model 'T5ForConditionalGeneration' is not supported for question-answering. Supported models are ['AlbertForQuestionAnswering', 'BartForQuestionAnswering', 'BertForQuestionAnswering', 'BigBirdForQuestionAnswering', 'BigBirdPegasusForQuestionAnswering', 'BloomForQuestionAnswering', 'CamembertForQuestionAnswering', 'CanineForQuestionAnswering', 'ConvBertForQuestionAnswering', 'Data2VecTextForQuestionAnswering', 'DebertaForQuestionAnswering', 'DebertaV2ForQuestionAnswering', 'DistilBertForQuestionAnswering', 'ElectraForQuestionAnswering', 'ErnieForQuestionAnswering', 'ErnieMForQuestionAnswering', 'FalconForQuestionAnswering', 'FlaubertForQuestionAnsweringSimple', 'FNetForQuestionAnswering', 'FunnelForQuestionAnswering', 'GPT2ForQuestionAnswering', 'GPTNeoForQuestionAnswering', 'GPTNeoXForQuestionAnswering', 'GPTJForQuestionAnswering', 'IBertForQuestionAnswering', 'LayoutLMv2ForQuestionAnswering', 'LayoutLMv3ForQuestionAnswering', 'LEDForQuestionAnswering', 'LiltForQuestionAnswering', 'LlamaForQuestionAnswering', 'LongformerForQuestionAnswering', 'LukeForQuestionAnswering', 'LxmertForQuestionAnswering', 'MarkupLMForQuestionAnswering', 'MBartForQuestionAnswering', 'MegaForQuestionAnswering', 'MegatronBertForQuestionAnswering', 'MobileBertForQuestionAnswering', 'MPNetForQuestionAnswering', 'MptForQuestionAnswering', 'MraForQuestionAnswering', 'MT5ForQuestionAnswering', 'MvpForQuestionAnswering', 'NezhaForQuestionAnswering', 'NystromformerForQuestionAnswering', 'OPTForQuestionAnswering', 'QDQBertForQuestionAnswering', 'ReformerForQuestionAnswering', 'RemBertForQuestionAnswering', 'RobertaForQuestionAnswering', 'RobertaPreLayerNormForQuestionAnswering', 'RoCBertForQuestionAnswering', 'RoFormerForQuestionAnswering', 'SplinterForQuestionAnswering', 'SqueezeBertForQuestionAnswering', 'T5ForQuestionAnswering', 'UMT5ForQuestionAnswering', 'XLMForQuestionAnsweringSimple', 'XLMRobertaForQuestionAnswering', 'XLMRobertaXLForQuestionAnswering', 'XLNetForQuestionAnsweringSimple', 'XmodForQuestionAnswering', 'YosoForQuestionAnswering'].\n"
     ]
    }
   ],
   "source": [
    "# Create a pipeline\n",
    "qa_pipeline = pipeline(\"question-answering\", model=t5_model, tokenizer=t5_tokenizer)"
   ]
  },
  {
   "cell_type": "code",
   "execution_count": 24,
   "id": "64beb884-bcdc-4ee9-821f-599976e3b857",
   "metadata": {},
   "outputs": [
    {
     "name": "stdin",
     "output_type": "stream",
     "text": [
      "Please enter your question (or type 'exit' to stop):  What happened at the Al-Shifa Hospital\n"
     ]
    },
    {
     "name": "stderr",
     "output_type": "stream",
     "text": [
      "/Users/hrishityelchuri/anaconda3/lib/python3.10/site-packages/transformers/generation/configuration_utils.py:563: UserWarning: `num_beams` is set to 1. However, `early_stopping` is set to `True` -- this flag is only used in beam-based generation modes. You should set `num_beams>1` or unset `early_stopping`.\n",
      "  warnings.warn(\n"
     ]
    },
    {
     "name": "stdout",
     "output_type": "stream",
     "text": [
      "Answer: israeli tanks and armored bulldozers surrounded the hospital jameel alayoubi who was one of thousands of palestinians sheltering at the hospital saw israeli tanks and armored bulldozers drive over at least four bodies in the hospital courtyard\n"
     ]
    },
    {
     "name": "stdin",
     "output_type": "stream",
     "text": [
      "Please enter your question (or type 'exit' to stop):  exit\n"
     ]
    },
    {
     "name": "stdout",
     "output_type": "stream",
     "text": [
      "Exiting the question-answering system. Goodbye!\n"
     ]
    }
   ],
   "source": [
    "# Repeatedly ask for questions and provide answers\n",
    "while True:\n",
    "    user_question = input(\"Please enter your question (or type 'exit' to stop): \")\n",
    "    if user_question.lower() == 'exit':\n",
    "        print(\"Exiting the question-answering system. Goodbye!\")\n",
    "        break\n",
    "    \n",
    "    # Retrieve relevant articles using BM25\n",
    "    top_articles = retrieve_articles(user_question, bm25, relevant_articles)\n",
    "    \n",
    "    # Generate answer using T5 model\n",
    "    answer = question_answer_system(user_question, top_articles)\n",
    "    \n",
    "    print(\"Answer:\", answer)"
   ]
  },
  {
   "cell_type": "code",
   "execution_count": null,
   "id": "b3085339-51d4-434a-9386-150913377888",
   "metadata": {},
   "outputs": [],
   "source": []
  }
 ],
 "metadata": {
  "kernelspec": {
   "display_name": "Python 3 (ipykernel)",
   "language": "python",
   "name": "python3"
  },
  "language_info": {
   "codemirror_mode": {
    "name": "ipython",
    "version": 3
   },
   "file_extension": ".py",
   "mimetype": "text/x-python",
   "name": "python",
   "nbconvert_exporter": "python",
   "pygments_lexer": "ipython3",
   "version": "3.10.9"
  }
 },
 "nbformat": 4,
 "nbformat_minor": 5
}
